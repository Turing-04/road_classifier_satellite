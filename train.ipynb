{
  "cells": [
    {
<<<<<<< Updated upstream
      "cell_type": "code",
      "source": [
        "#!pip install pytorch\n",
        "!git clone \"https://github.com/Turing-04/road_classifier_satellite.git\"\n"
      ],
=======
      "cell_type": "markdown",
      "metadata": {
        "colab_type": "text",
        "id": "view-in-github"
      },
      "source": [
        "<a href=\"https://colab.research.google.com/github/Turing-04/road_classifier_satellite/blob/main/train.ipynb\" target=\"_parent\"><img src=\"https://colab.research.google.com/assets/colab-badge.svg\" alt=\"Open In Colab\"/></a>"
      ]
    },
    {
      "cell_type": "code",
      "execution_count": 16,
>>>>>>> Stashed changes
      "metadata": {
        "colab": {
          "base_uri": "https://localhost:8080/"
        },
        "id": "AW63RJ2uHdL-",
        "outputId": "1806ba2c-a2b8-47f2-bab0-5fc8baef0fe4"
      },
<<<<<<< Updated upstream
      "execution_count": 6,
=======
>>>>>>> Stashed changes
      "outputs": [
        {
          "name": "stdout",
          "output_type": "stream",
          "text": [
            "Cloning into 'road_classifier_satellite'...\n",
            "remote: Enumerating objects: 1906, done.\u001b[K\n",
            "remote: Counting objects: 100% (290/290), done.\u001b[K\n",
            "remote: Compressing objects: 100% (253/253), done.\u001b[K\n",
            "remote: Total 1906 (delta 38), reused 288 (delta 36), pack-reused 1616\u001b[K\n",
            "Receiving objects: 100% (1906/1906), 296.66 MiB | 39.98 MiB/s, done.\n",
            "Resolving deltas: 100% (43/43), done.\n",
            "Checking out files: 100% (2423/2423), done.\n"
          ]
        }
      ],
      "source": [
        "#!pip install data\n",
        "!git clone \"https://github.com/Turing-04/road_classifier_satellite.git\"\n"
      ]
    },
    {
      "cell_type": "code",
<<<<<<< Updated upstream
      "source": [
        "%cd road_classifier_satellite\n",
        "#%cd training\n",
        "%ls training\n"
      ],
=======
      "execution_count": 25,
>>>>>>> Stashed changes
      "metadata": {
        "colab": {
          "base_uri": "https://localhost:8080/"
        },
        "id": "NdK4kiYYH-kY",
        "outputId": "954cbf18-ff7d-4dc0-ff3f-362e4f719ab0"
      },
<<<<<<< Updated upstream
      "execution_count": 7,
=======
>>>>>>> Stashed changes
      "outputs": [
        {
          "name": "stdout",
          "output_type": "stream",
          "text": [
            "/content/road_classifier_satellite/road_classifier_satellite\n",
            "\u001b[0m\u001b[01;34mgroundtruth\u001b[0m/  \u001b[01;34mimages\u001b[0m/\n"
          ]
        }
      ],
      "source": [
        "%cd road_classifier_satellite\n",
        "%ls\n"
      ]
    },
    {
      "cell_type": "code",
      "execution_count": 9,
      "metadata": {
        "id": "PF_Rf6dmHUY8"
      },
      "outputs": [],
      "source": [
        "import os\n",
        "import time\n",
        "from glob import glob\n",
        "\n",
        "import torch\n",
        "from torch.utils.data import DataLoader\n",
        "import torch.nn as nn\n",
        "\n",
        "from data import DriveDataset\n",
        "from model import build_unet\n",
        "from loss import DiceLoss, DiceBCELoss\n",
        "from utils import seeding, create_dir, epoch_time\n",
        "\n"
      ]
    },
    {
      "cell_type": "code",
      "execution_count": 10,
      "metadata": {
        "id": "BAhWjK2vHUZC"
      },
      "outputs": [],
      "source": [
        "\n",
        "def train(model, loader, optimizer, loss_fn, device):\n",
        "    epoch_loss = 0.0\n",
        "\n",
        "    model.train()\n",
        "    for x, y in loader:\n",
        "        x = x.to(device, dtype=torch.float32)\n",
        "        y = y.to(device, dtype=torch.float32)\n",
        "\n",
        "        optimizer.zero_grad()\n",
        "        y_pred = model(x)\n",
        "        loss = loss_fn(y_pred, y)\n",
        "        loss.backward()\n",
        "        optimizer.step()\n",
        "        epoch_loss += loss.item()\n",
        "\n",
        "    epoch_loss = epoch_loss/len(loader)\n",
        "    return epoch_loss\n",
        "\n",
        "def evaluate(model, loader, loss_fn, device):\n",
        "    epoch_loss = 0.0\n",
        "\n",
        "    model.eval()\n",
        "    with torch.no_grad():\n",
        "        for x, y in loader:\n",
        "            x = x.to(device, dtype=torch.float32)\n",
        "            y = y.to(device, dtype=torch.float32)\n",
        "\n",
        "            y_pred = model(x)\n",
        "            loss = loss_fn(y_pred, y)\n",
        "            epoch_loss += loss.item()\n",
        "\n",
        "        epoch_loss = epoch_loss/len(loader)\n",
        "    return epoch_loss\n",
        "\n",
        "\n"
      ]
    },
    {
      "cell_type": "code",
      "execution_count": 13,
      "metadata": {
        "colab": {
          "base_uri": "https://localhost:8080/"
        },
        "id": "dqQt2ZwzHUZD",
        "outputId": "c22c1d69-90a6-43be-c55f-df062a95a9b7"
      },
      "outputs": [
        {
          "name": "stdout",
          "output_type": "stream",
          "text": [
            "Dataset Size:\n",
            "Train: 1100 - Valid: 100\n",
            "\n",
            "Checkpoint loaded: weights/checkpoint.pth\n",
            "Valid loss improved from inf to 0.1979. Saving checkpoint: weights/checkpoint.pth\n",
            "Epoch: 01 | Epoch Time: 4m 24s\n",
            "\tTrain Loss: 0.196\n",
            "\t Val. Loss: 0.198\n",
            "\n",
            "Valid loss improved from 0.1979 to 0.1947. Saving checkpoint: weights/checkpoint.pth\n",
            "Epoch: 02 | Epoch Time: 4m 24s\n",
            "\tTrain Loss: 0.189\n",
            "\t Val. Loss: 0.195\n",
            "\n",
            "Epoch: 03 | Epoch Time: 4m 24s\n",
            "\tTrain Loss: 0.185\n",
            "\t Val. Loss: 0.202\n",
            "\n",
            "Valid loss improved from 0.1947 to 0.1873. Saving checkpoint: weights/checkpoint.pth\n",
            "Epoch: 04 | Epoch Time: 4m 24s\n",
            "\tTrain Loss: 0.180\n",
            "\t Val. Loss: 0.187\n",
            "\n",
            "Epoch: 05 | Epoch Time: 4m 24s\n",
            "\tTrain Loss: 0.189\n",
            "\t Val. Loss: 0.226\n",
            "\n",
            "Valid loss improved from 0.1873 to 0.1768. Saving checkpoint: weights/checkpoint.pth\n",
            "Epoch: 06 | Epoch Time: 4m 24s\n",
            "\tTrain Loss: 0.176\n",
            "\t Val. Loss: 0.177\n",
            "\n",
            "Epoch: 07 | Epoch Time: 4m 24s\n",
            "\tTrain Loss: 0.170\n",
            "\t Val. Loss: 0.177\n",
            "\n",
            "Valid loss improved from 0.1768 to 0.1731. Saving checkpoint: weights/checkpoint.pth\n",
            "Epoch: 08 | Epoch Time: 4m 24s\n",
            "\tTrain Loss: 0.165\n",
            "\t Val. Loss: 0.173\n",
            "\n",
            "Epoch: 09 | Epoch Time: 4m 24s\n",
            "\tTrain Loss: 0.168\n",
            "\t Val. Loss: 0.174\n",
            "\n",
            "Epoch: 10 | Epoch Time: 4m 24s\n",
            "\tTrain Loss: 0.166\n",
            "\t Val. Loss: 0.177\n",
            "\n",
            "Epoch: 11 | Epoch Time: 4m 24s\n",
            "\tTrain Loss: 0.163\n",
            "\t Val. Loss: 0.248\n",
            "\n",
            "Valid loss improved from 0.1731 to 0.1678. Saving checkpoint: weights/checkpoint.pth\n",
            "Epoch: 12 | Epoch Time: 4m 24s\n",
            "\tTrain Loss: 0.168\n",
            "\t Val. Loss: 0.168\n",
            "\n",
            "Valid loss improved from 0.1678 to 0.1668. Saving checkpoint: weights/checkpoint.pth\n",
            "Epoch: 13 | Epoch Time: 4m 24s\n",
            "\tTrain Loss: 0.157\n",
            "\t Val. Loss: 0.167\n",
            "\n",
            "Epoch: 14 | Epoch Time: 4m 24s\n",
            "\tTrain Loss: 0.171\n",
            "\t Val. Loss: 0.167\n",
            "\n",
            "Valid loss improved from 0.1668 to 0.1591. Saving checkpoint: weights/checkpoint.pth\n",
            "Epoch: 15 | Epoch Time: 4m 24s\n",
            "\tTrain Loss: 0.154\n",
            "\t Val. Loss: 0.159\n",
            "\n",
            "Valid loss improved from 0.1591 to 0.1581. Saving checkpoint: weights/checkpoint.pth\n",
            "Epoch: 16 | Epoch Time: 4m 24s\n",
            "\tTrain Loss: 0.153\n",
            "\t Val. Loss: 0.158\n",
            "\n",
            "Epoch: 17 | Epoch Time: 4m 24s\n",
            "\tTrain Loss: 0.159\n",
            "\t Val. Loss: 0.189\n",
            "\n",
            "Epoch: 18 | Epoch Time: 4m 23s\n",
            "\tTrain Loss: 0.172\n",
            "\t Val. Loss: 0.165\n",
            "\n",
            "Valid loss improved from 0.1581 to 0.1555. Saving checkpoint: weights/checkpoint.pth\n",
            "Epoch: 19 | Epoch Time: 4m 24s\n",
            "\tTrain Loss: 0.154\n",
            "\t Val. Loss: 0.156\n",
            "\n",
            "Epoch: 20 | Epoch Time: 4m 24s\n",
            "\tTrain Loss: 0.154\n",
            "\t Val. Loss: 0.188\n",
            "\n",
            "Epoch: 21 | Epoch Time: 4m 24s\n",
            "\tTrain Loss: 0.176\n",
            "\t Val. Loss: 0.158\n",
            "\n",
            "Valid loss improved from 0.1555 to 0.1529. Saving checkpoint: weights/checkpoint.pth\n",
            "Epoch: 22 | Epoch Time: 4m 24s\n",
            "\tTrain Loss: 0.148\n",
            "\t Val. Loss: 0.153\n",
            "\n",
            "Epoch: 23 | Epoch Time: 4m 24s\n",
            "\tTrain Loss: 0.148\n",
            "\t Val. Loss: 0.200\n",
            "\n",
            "Epoch: 24 | Epoch Time: 4m 24s\n",
            "\tTrain Loss: 0.155\n",
            "\t Val. Loss: 0.153\n",
            "\n",
            "Epoch: 25 | Epoch Time: 4m 24s\n",
            "\tTrain Loss: 0.159\n",
            "\t Val. Loss: 0.166\n",
            "\n",
            "Epoch: 26 | Epoch Time: 4m 24s\n",
            "\tTrain Loss: 0.153\n",
            "\t Val. Loss: 0.157\n",
            "\n",
            "Valid loss improved from 0.1529 to 0.1480. Saving checkpoint: weights/checkpoint.pth\n",
            "Epoch: 27 | Epoch Time: 4m 24s\n",
            "\tTrain Loss: 0.146\n",
            "\t Val. Loss: 0.148\n",
            "\n",
            "Epoch: 28 | Epoch Time: 4m 24s\n",
            "\tTrain Loss: 0.145\n",
            "\t Val. Loss: 0.152\n",
            "\n",
            "Epoch: 29 | Epoch Time: 4m 24s\n",
            "\tTrain Loss: 0.147\n",
            "\t Val. Loss: 0.149\n",
            "\n",
            "Epoch: 30 | Epoch Time: 4m 24s\n",
            "\tTrain Loss: 0.147\n",
            "\t Val. Loss: 0.150\n",
            "\n"
          ]
        }
      ],
      "source": [
        "\n",
        "if __name__ == \"__main__\":\n",
        "    \"\"\" Seeding \"\"\"\n",
        "    seeding(42)\n",
        "\n",
        "    \"\"\" Directories \"\"\"\n",
        "    create_dir(\"weights\")\n",
        "\n",
        "    \"\"\" Load dataset \"\"\"\n",
        "    train_x = sorted(glob(\"training/images/expanded/*\"))\n",
        "    train_y = sorted(glob(\"training/groundtruth/expanded/*\"))\n",
        "\n",
        "    valid_x = sorted(glob(\"training/images/default/*\"))\n",
        "    valid_y = sorted(glob(\"training/groundtruth/default/*\"))\n",
        "\n",
        "    data_str = f\"Dataset Size:\\nTrain: {len(train_x)} - Valid: {len(valid_x)}\\n\"\n",
        "    print(data_str)\n",
        "\n",
        "    \"\"\" Hyperparameters \"\"\"\n",
        "    H = 400\n",
        "    W = 400\n",
        "    size = (H, W)\n",
        "    batch_size = 2\n",
        "    num_epochs = 30\n",
        "    lr = 1e-4\n",
        "    checkpoint_path = \"weights/checkpoint.pth\"\n",
        "\n",
        "    \"\"\" Dataset and loader \"\"\"\n",
        "    train_dataset = DriveDataset(train_x, train_y)\n",
        "    valid_dataset = DriveDataset(valid_x, valid_y)\n",
        "\n",
        "    train_loader = DataLoader(\n",
        "        dataset=train_dataset,\n",
        "        batch_size=batch_size,\n",
        "        shuffle=True,\n",
        "        num_workers=2\n",
        "    )\n",
        "\n",
        "    valid_loader = DataLoader(\n",
        "        dataset=valid_dataset,\n",
        "        batch_size=batch_size,\n",
        "        shuffle=False,\n",
        "        num_workers=2\n",
        "    )\n",
        "\n",
        "    device = torch.device('cuda' if torch.cuda.is_available() else 'cpu')\n",
        "    model = build_unet()\n",
        "    model = model.to(device)\n",
        "\n",
        "    optimizer = torch.optim.Adam(model.parameters(), lr=lr)\n",
        "    scheduler = torch.optim.lr_scheduler.ReduceLROnPlateau(optimizer, 'min', patience=5, verbose=True)\n",
        "    loss_fn = DiceBCELoss()\n",
        "\n",
        "    if os.path.exists(checkpoint_path):\n",
        "        model.load_state_dict(torch.load(checkpoint_path))\n",
        "        data_str = f\"Checkpoint loaded: {checkpoint_path}\"\n",
        "        print(data_str)\n",
        "\n",
        "    \"\"\" Training the model \"\"\"\n",
        "    best_valid_loss = float(\"inf\")\n",
        "\n",
        "    for epoch in range(num_epochs):\n",
        "        start_time = time.time()\n",
        "\n",
        "        train_loss = train(model, train_loader, optimizer, loss_fn, device)\n",
        "        valid_loss = evaluate(model, valid_loader, loss_fn, device)\n",
        "\n",
        "        \"\"\" Saving the model \"\"\"\n",
        "        if valid_loss < best_valid_loss:\n",
        "            data_str = f\"Valid loss improved from {best_valid_loss:2.4f} to {valid_loss:2.4f}. Saving checkpoint: {checkpoint_path}\"\n",
        "            print(data_str)\n",
        "\n",
        "            best_valid_loss = valid_loss\n",
        "            torch.save(model.state_dict(), checkpoint_path)\n",
        "\n",
        "        end_time = time.time()\n",
        "        epoch_mins, epoch_secs = epoch_time(start_time, end_time)\n",
        "\n",
        "        data_str = f'Epoch: {epoch+1:02} | Epoch Time: {epoch_mins}m {epoch_secs}s\\n'\n",
        "        data_str += f'\\tTrain Loss: {train_loss:.3f}\\n'\n",
        "        data_str += f'\\t Val. Loss: {valid_loss:.3f}\\n'\n",
        "        print(data_str)"
      ]
    },
    {
      "cell_type": "code",
      "execution_count": null,
      "metadata": {
        "id": "uZyiGaaEHUZE"
      },
      "outputs": [],
      "source": []
    },
    {
      "cell_type": "code",
      "execution_count": null,
      "metadata": {
        "id": "IvkjPS3IHUZF"
      },
      "outputs": [],
      "source": []
    }
  ],
  "metadata": {
    "colab": {
<<<<<<< Updated upstream
=======
      "include_colab_link": true,
>>>>>>> Stashed changes
      "provenance": []
    },
    "gpuClass": "standard",
    "kernelspec": {
      "display_name": "Python 3",
      "language": "python",
      "name": "python3"
    },
<<<<<<< Updated upstream
    "gpuClass": "standard",
    "accelerator": "GPU"
=======
    "language_info": {
      "name": "python",
      "version": "3.11.0 (main, Oct 25 2022, 14:13:24) [Clang 14.0.0 (clang-1400.0.29.202)]"
    },
    "orig_nbformat": 4,
    "vscode": {
      "interpreter": {
        "hash": "1a1af0ee75eeea9e2e1ee996c87e7a2b11a0bebd85af04bb136d915cefc0abce"
      }
    }
>>>>>>> Stashed changes
  },
  "nbformat": 4,
  "nbformat_minor": 0
}
