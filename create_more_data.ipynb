{
 "cells": [
  {
   "cell_type": "code",
   "execution_count": 15,
   "metadata": {},
   "outputs": [],
   "source": [
    "import os\n",
    "from PIL import Image"
   ]
  },
  {
   "cell_type": "code",
   "execution_count": 16,
   "metadata": {},
   "outputs": [],
   "source": [
    "root_dir = \"training/\"\n",
    "image_dir = root_dir + \"images/\"\n",
    "default_images = os.listdir(image_dir)\n",
    "\n",
    "groundtruth_dir = root_dir + \"groundtruth/\"\n",
    "default_groundtruth = os.listdir(groundtruth_dir)\n",
    "\n",
    "rotated_images_dir = root_dir + \"rotated_images/\"\n",
    "rotated_groundtruth_dir = root_dir + \"rotated_groundtruth/\"\n",
    "\n",
    "flipped_images_dir = root_dir + \"flipped_images/\"\n",
    "flipped_groundtruth_dir = root_dir + \"flipped_groundtruth/\"\n",
    "\n",
    "offset_images_dir = root_dir + \"offset_images/\"\n",
    "offset_groundtruth_dir = root_dir + \"offset_groundtruth/\""
   ]
  },
  {
   "cell_type": "code",
   "execution_count": 17,
   "metadata": {},
   "outputs": [],
   "source": [
    "\n",
    "# rotate images and groundtruth by 90, 180, 270 degrees\n",
    "def create_rotated_training_data():\n",
    "    for image in default_images:\n",
    "        image_path = image_dir + image\n",
    "        img = Image.open(image_path)\n",
    "        rotated = img.rotate(90)\n",
    "        rotated.save(rotated_images_dir + \"rotated_90_\" + image)\n",
    "        rotated = img.rotate(180)\n",
    "        rotated.save(rotated_images_dir + \"rotated_180_\" + image)\n",
    "        rotated = img.rotate(270)\n",
    "        rotated.save(rotated_images_dir + \"rotated_270_\" + image)\n",
    "    \n",
    "    for groundtruth in default_groundtruth:\n",
    "        groundtruth_path = groundtruth_dir + groundtruth\n",
    "        img = Image.open(groundtruth_path)\n",
    "        rotated = img.rotate(90)\n",
    "        rotated.save(rotated_groundtruth_dir + \"rotated_90_\" + groundtruth)\n",
    "        rotated = img.rotate(180)\n",
    "        rotated.save(rotated_groundtruth_dir + \"rotated_180_\" + groundtruth)\n",
    "        rotated = img.rotate(270)\n",
    "        rotated.save(rotated_groundtruth_dir + \"rotated_270_\" + groundtruth)"
   ]
  },
  {
   "cell_type": "code",
   "execution_count": 18,
   "metadata": {},
   "outputs": [],
   "source": [
    "# flip images and groundtruth horizontally and vertically\n",
    "def create_flipped_training_data():\n",
    "    for image in default_images:\n",
    "        image_path = image_dir + image\n",
    "        img = Image.open(image_path)\n",
    "        flipped = img.transpose(Image.FLIP_LEFT_RIGHT)\n",
    "        flipped.save(flipped_images_dir + \"flipped_vert_\" + image)\n",
    "        flipped = img.transpose(Image.FLIP_TOP_BOTTOM)\n",
    "        flipped.save(flipped_images_dir + \"flipped_horiz_\" + image)\n",
    "\n",
    "    for groundtruth in default_groundtruth:\n",
    "        groundtruth_path = groundtruth_dir + groundtruth\n",
    "        img = Image.open(groundtruth_path)\n",
    "        flipped = img.transpose(Image.FLIP_LEFT_RIGHT)\n",
    "        flipped.save(flipped_groundtruth_dir + \"flipped_vert_\" + groundtruth)\n",
    "        flipped = img.transpose(Image.FLIP_TOP_BOTTOM)\n",
    "        flipped.save(flipped_groundtruth_dir + \"flipped_horiz_\" + groundtruth)"
   ]
  },
  {
   "cell_type": "code",
   "execution_count": 19,
   "metadata": {},
   "outputs": [
    {
     "name": "stderr",
     "output_type": "stream",
     "text": [
      "C:\\Users\\antoi\\AppData\\Local\\Temp\\ipykernel_6160\\2574681562.py:6: DeprecationWarning: FLIP_LEFT_RIGHT is deprecated and will be removed in Pillow 10 (2023-07-01). Use Transpose.FLIP_LEFT_RIGHT instead.\n",
      "  flipped = img.transpose(Image.FLIP_LEFT_RIGHT)\n",
      "C:\\Users\\antoi\\AppData\\Local\\Temp\\ipykernel_6160\\2574681562.py:8: DeprecationWarning: FLIP_TOP_BOTTOM is deprecated and will be removed in Pillow 10 (2023-07-01). Use Transpose.FLIP_TOP_BOTTOM instead.\n",
      "  flipped = img.transpose(Image.FLIP_TOP_BOTTOM)\n",
      "C:\\Users\\antoi\\AppData\\Local\\Temp\\ipykernel_6160\\2574681562.py:14: DeprecationWarning: FLIP_LEFT_RIGHT is deprecated and will be removed in Pillow 10 (2023-07-01). Use Transpose.FLIP_LEFT_RIGHT instead.\n",
      "  flipped = img.transpose(Image.FLIP_LEFT_RIGHT)\n",
      "C:\\Users\\antoi\\AppData\\Local\\Temp\\ipykernel_6160\\2574681562.py:16: DeprecationWarning: FLIP_TOP_BOTTOM is deprecated and will be removed in Pillow 10 (2023-07-01). Use Transpose.FLIP_TOP_BOTTOM instead.\n",
      "  flipped = img.transpose(Image.FLIP_TOP_BOTTOM)\n"
     ]
    }
   ],
   "source": [
    "create_rotated_training_data()\n",
    "\n",
    "create_flipped_training_data()\n"
   ]
  }
 ],
 "metadata": {
  "kernelspec": {
   "display_name": "base",
   "language": "python",
   "name": "python3"
  },
  "language_info": {
   "codemirror_mode": {
    "name": "ipython",
    "version": 3
   },
   "file_extension": ".py",
   "mimetype": "text/x-python",
   "name": "python",
   "nbconvert_exporter": "python",
   "pygments_lexer": "ipython3",
   "version": "3.9.12 (main, Apr  4 2022, 05:22:27) [MSC v.1916 64 bit (AMD64)]"
  },
  "orig_nbformat": 4,
  "vscode": {
   "interpreter": {
    "hash": "889623747704b89ee8933d0082100de44667665ef46e99073be38ed503c32601"
   }
  }
 },
 "nbformat": 4,
 "nbformat_minor": 2
}
